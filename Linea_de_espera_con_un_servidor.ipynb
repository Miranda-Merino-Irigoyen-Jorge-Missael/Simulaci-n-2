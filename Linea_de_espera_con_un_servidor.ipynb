{
  "nbformat": 4,
  "nbformat_minor": 0,
  "metadata": {
    "colab": {
      "provenance": [],
      "authorship_tag": "ABX9TyOq1kZr9jgjjgNxYc9rnwpd",
      "include_colab_link": true
    },
    "kernelspec": {
      "name": "python3",
      "display_name": "Python 3"
    },
    "language_info": {
      "name": "python"
    }
  },
  "cells": [
    {
      "cell_type": "markdown",
      "metadata": {
        "id": "view-in-github",
        "colab_type": "text"
      },
      "source": [
        "<a href=\"https://colab.research.google.com/github/Miranda-Merino-Irigoyen-Jorge-Missael/Simulaci-n-2/blob/main/Linea_de_espera_con_un_servidor.ipynb\" target=\"_parent\"><img src=\"https://colab.research.google.com/assets/colab-badge.svg\" alt=\"Open In Colab\"/></a>"
      ]
    },
    {
      "cell_type": "code",
      "source": [
        "#Linea de espera con un solo servidor #\n",
        "\n",
        "import math\n",
        "import random\n",
        "\n",
        "# Variables iniciales\n",
        "t = 0  # Tiempo actual\n",
        "n = 0  # Número de clientes en el sistema\n",
        "NLL = 0  # Número de llegadas hasta el instante t\n",
        "NS = 0  # Número de salidas hasta el instante t\n",
        "Tp = 0  # Instante de salida del último cliente después del cierre\n",
        "T = 100  # Definir la hora de cierre (ejemplo)\n",
        "tS = math.inf  # Instante de la próxima salida (no hay clientes al inicio)\n",
        "\n",
        "# Funciones para generar los tiempos\n",
        "def generar_t0():\n",
        "    return random.expovariate(1/5)  # Ejemplo: tiempo entre llegadas con media de 5\n",
        "\n",
        "def generar_tt():\n",
        "    return random.expovariate(1/5)  # Ejemplo: tiempo entre llegadas con media de 5\n",
        "\n",
        "def generar_y():\n",
        "    return random.expovariate(1/10)  # Ejemplo: tiempo en servidor con media de 10\n",
        "\n",
        "# Inicializar tLL con el primer tiempo de llegada T0\n",
        "tLL = generar_t0()\n",
        "\n",
        "# Listas para registrar los tiempos de llegada y salida de cada cliente\n",
        "LL = []  # Instantes de llegada de cada cliente\n",
        "S = []  # Instantes de salida de cada cliente\n",
        "\n",
        "# Bucle principal de simulación\n",
        "while True:\n",
        "    # Caso 1: Se produce una llegada antes que una salida y antes del cierre\n",
        "    if (tLL <= tS) and (tLL <= T):\n",
        "        t = tLL\n",
        "        NLL += 1\n",
        "        n += 1\n",
        "        LL.append(t)  # Anotar el instante de llegada del cliente NLL\n",
        "\n",
        "        # Generar el siguiente tiempo de llegada\n",
        "        tLL = t + generar_tt()\n",
        "\n",
        "        # Si es el único cliente en el sistema, generar el tiempo de salida\n",
        "        if n == 1:\n",
        "            Y = generar_y()\n",
        "            tS = t + Y\n",
        "\n",
        "    # Caso 2: Se produce una salida antes que la próxima llegada y antes del cierre\n",
        "    elif (tLL > tS) and (tS <= T):\n",
        "        t = tS\n",
        "        NS += 1\n",
        "        n -= 1\n",
        "        S.append(t)  # Anotar el instante de salida del cliente NS\n",
        "\n",
        "        # Si no hay más clientes en el sistema, poner tS en infinito\n",
        "        if n == 0:\n",
        "            tS = math.inf\n",
        "        else:\n",
        "            Y = generar_y()\n",
        "            tS = t + Y\n",
        "\n",
        "    # Caso 3: El cierre ocurre antes de la próxima llegada o salida, pero hay clientes en el sistema\n",
        "    elif (tS > T) and (n > 0):\n",
        "        t = tS\n",
        "        NS += 1\n",
        "        n -= 1\n",
        "        S.append(t)  # Anotar el instante de salida del cliente NS\n",
        "\n",
        "        # Si hay más clientes, generar un nuevo tiempo de salida\n",
        "        if n > 0:\n",
        "            Y = generar_y()\n",
        "            tS = t + Y\n",
        "        else:\n",
        "            tS = math.inf  # No hay más clientes, así que tS se vuelve infinito\n",
        "\n",
        "    # Caso 4: No hay más llegadas ni clientes en el sistema, el proceso termina\n",
        "    if (tS > T) and (tLL > T) and (n == 0):\n",
        "        Tp = max(0, t - T)  # Anotar el tiempo de salida del último cliente después del cierre\n",
        "        break\n",
        "\n",
        "# Cálculo de las métricas solicitadas\n",
        "# Tiempo medio que pasa en el sistema un cliente\n",
        "tiempos_en_sistema = [s - ll for s, ll in zip(S, LL)]\n",
        "tiempo_medio_sistema = sum(tiempos_en_sistema) / len(tiempos_en_sistema) if tiempos_en_sistema else 0\n",
        "\n",
        "# Número medio de clientes en el sistema\n",
        "tiempo_total = T if T > max(S, default=0) else max(S)\n",
        "numero_medio_clientes = NLL / tiempo_total if tiempo_total > 0 else 0\n",
        "\n",
        "# Imprimir resultados\n",
        "print(\"Tiempo medio que pasa en el sistema el cliente:\", tiempo_medio_sistema)\n",
        "print(\"Tiempo medio después de la hora de cierre (T) que tarda en irse el último cliente:\", Tp)\n",
        "print(\"Número medio de clientes en el sistema:\", numero_medio_clientes)\n"
      ],
      "metadata": {
        "colab": {
          "base_uri": "https://localhost:8080/"
        },
        "id": "hjBtpg_M-Tp6",
        "outputId": "b39d276c-a6c4-461e-9f12-588af23d354f"
      },
      "execution_count": 4,
      "outputs": [
        {
          "output_type": "stream",
          "name": "stdout",
          "text": [
            "Tiempo medio que pasa en el sistema el cliente: 46.798354222225626\n",
            "Tiempo medio después de la hora de cierre (T) que tarda en irse el último cliente: 74.77864610220257\n",
            "Número medio de clientes en el sistema: 0.11443045501282184\n"
          ]
        }
      ]
    }
  ]
}