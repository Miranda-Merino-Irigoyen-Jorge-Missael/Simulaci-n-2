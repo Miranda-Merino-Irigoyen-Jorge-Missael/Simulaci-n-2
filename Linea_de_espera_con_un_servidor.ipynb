{
  "nbformat": 4,
  "nbformat_minor": 0,
  "metadata": {
    "colab": {
      "provenance": [],
      "authorship_tag": "ABX9TyOjcDQpEv7dnseAEZpnHY+F",
      "include_colab_link": true
    },
    "kernelspec": {
      "name": "python3",
      "display_name": "Python 3"
    },
    "language_info": {
      "name": "python"
    }
  },
  "cells": [
    {
      "cell_type": "markdown",
      "metadata": {
        "id": "view-in-github",
        "colab_type": "text"
      },
      "source": [
        "<a href=\"https://colab.research.google.com/github/Miranda-Merino-Irigoyen-Jorge-Missael/Simulaci-n-2/blob/main/Linea_de_espera_con_un_servidor.ipynb\" target=\"_parent\"><img src=\"https://colab.research.google.com/assets/colab-badge.svg\" alt=\"Open In Colab\"/></a>"
      ]
    },
    {
      "cell_type": "code",
      "source": [
        "#Linea de espera con un servidor#\n",
        "\n",
        "# Librerias #\n",
        "import math  # Para usar math.inf (infinito)\n",
        "import random  # Para la generación de tiempos aleatorios\n",
        "\n",
        "# Variables iniciales\n",
        "t = 0  # Tiempo actual\n",
        "n = 0  # Número de clientes en el sistema\n",
        "NLL = 0  # Número de llegadas hasta el instante t\n",
        "NS = 0  # Número de salidas hasta el instante t\n",
        "Tp = 0  # Instante de salida del último cliente después del cierre\n",
        "T = 100  # Definir la hora de cierre (ejemplo)\n",
        "tS = math.inf  # Instante de la próxima salida (no hay clientes al inicio)\n",
        "\n",
        "# Funciones para generar los tiempos\n",
        "def generar_t0():\n",
        "    return random.expovariate(1/5)  # Ejemplo: tiempo entre llegadas con media de 5\n",
        "\n",
        "def generar_tt():\n",
        "    return random.expovariate(1/5)  # Ejemplo: tiempo entre llegadas con media de 5\n",
        "\n",
        "def generar_y():\n",
        "    return random.expovariate(1/10)  # Ejemplo: tiempo en servidor con media de 10\n",
        "\n",
        "# Inicializar tLL con el primer tiempo de llegada T0\n",
        "tLL = generar_t0()\n",
        "\n",
        "# Listas para registrar los tiempos de llegada y salida de cada cliente\n",
        "LL = []  # Instantes de llegada de cada cliente\n",
        "S = []  # Instantes de salida de cada cliente\n",
        "\n",
        "# Bucle principal de simulación\n",
        "while True:\n",
        "    # Caso 1: Se produce una llegada antes que una salida y antes del cierre\n",
        "    if (tLL <= tS) and (tLL <= T):\n",
        "        t = tLL\n",
        "        NLL += 1\n",
        "        n += 1\n",
        "        LL.append(t)  # Anotar el instante de llegada del cliente NLL\n",
        "\n",
        "        # Generar el siguiente tiempo de llegada\n",
        "        tLL = t + generar_tt()\n",
        "\n",
        "        # Si es el único cliente en el sistema, generar el tiempo de salida\n",
        "        if n == 1:\n",
        "            Y = generar_y()\n",
        "            tS = t + Y\n",
        "\n",
        "    # Caso 2: Se produce una salida antes que la próxima llegada y antes del cierre\n",
        "    elif (tLL > tS) and (tS <= T):\n",
        "        t = tS\n",
        "        NS += 1\n",
        "        n -= 1\n",
        "        S.append(t)  # Anotar el instante de salida del cliente NS\n",
        "\n",
        "        # Si no hay más clientes en el sistema, poner tS en infinito\n",
        "        if n == 0:\n",
        "            tS = math.inf\n",
        "        else:\n",
        "            Y = generar_y()\n",
        "            tS = t + Y\n",
        "\n",
        "    # Caso 3: El cierre ocurre antes de la próxima llegada o salida, pero hay clientes en el sistema\n",
        "    elif (tS > T) and (n > 0):\n",
        "        t = tS\n",
        "        NS += 1\n",
        "        n -= 1\n",
        "        S.append(t)  # Anotar el instante de salida del cliente NS\n",
        "\n",
        "        # Si hay más clientes, generar un nuevo tiempo de salida\n",
        "        if n > 0:\n",
        "            Y = generar_y()\n",
        "            tS = t + Y\n",
        "        else:\n",
        "            tS = math.inf  # No hay más clientes, así que tS se vuelve infinito\n",
        "\n",
        "    # Caso 4: No hay más llegadas ni clientes en el sistema, el proceso termina\n",
        "    if (tS > T) and (tLL > T) and (n == 0):\n",
        "        Tp = max(0, t - T)  # Anotar el tiempo de salida del último cliente después del cierre\n",
        "        break\n",
        "\n",
        "# Salida de los resultados\n",
        "print(\"Número de llegadas (NLL):\", NLL)\n",
        "print(\"Número de salidas (NS):\", NS)\n",
        "print(\"Tiempos de llegada (LL):\", LL)\n",
        "print(\"Tiempos de salida (S):\", S)\n",
        "print(\"Tiempo de salida del último cliente después del cierre (Tp):\", Tp)\n"
      ],
      "metadata": {
        "colab": {
          "base_uri": "https://localhost:8080/"
        },
        "id": "hjBtpg_M-Tp6",
        "outputId": "4609828d-b70c-4551-9161-bd868f06252e"
      },
      "execution_count": 2,
      "outputs": [
        {
          "output_type": "stream",
          "name": "stdout",
          "text": [
            "Número de llegadas (NLL): 14\n",
            "Número de salidas (NS): 14\n",
            "Tiempos de llegada (LL): [18.246988146329375, 20.437452635854083, 27.209804066857668, 35.028845375230155, 40.83514594051522, 54.221633074427345, 57.58108910475355, 69.76869275131179, 73.36607752637896, 75.80231205540112, 79.85011258257535, 84.07917530866453, 89.15020840867427, 97.37656375804754]\n",
            "Tiempos de salida (S): [24.509930232855844, 33.43624386616034, 51.515797830714845, 55.2798465940933, 62.858391427373576, 80.53356966818617, 91.42285864455296, 92.97894617921126, 96.63142010168212, 115.37051375010266, 118.96335562848007, 125.31441623616763, 134.0578856606632, 139.42659424942062]\n",
            "Tiempo de salida del último cliente después del cierre (Tp): 39.42659424942062\n"
          ]
        }
      ]
    },
    {
      "cell_type": "code",
      "source": [],
      "metadata": {
        "id": "N_F_e7gMYYFH"
      },
      "execution_count": null,
      "outputs": []
    }
  ]
}