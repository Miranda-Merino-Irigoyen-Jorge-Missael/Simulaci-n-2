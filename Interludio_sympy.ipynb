{
  "nbformat": 4,
  "nbformat_minor": 0,
  "metadata": {
    "colab": {
      "provenance": [],
      "authorship_tag": "ABX9TyNwmBV/pX4pmx88i4Eis+FG",
      "include_colab_link": true
    },
    "kernelspec": {
      "name": "python3",
      "display_name": "Python 3"
    },
    "language_info": {
      "name": "python"
    }
  },
  "cells": [
    {
      "cell_type": "markdown",
      "metadata": {
        "id": "view-in-github",
        "colab_type": "text"
      },
      "source": [
        "<a href=\"https://colab.research.google.com/github/Miranda-Merino-Irigoyen-Jorge-Missael/Simulaci-n-2/blob/main/Interludio_sympy.ipynb\" target=\"_parent\"><img src=\"https://colab.research.google.com/assets/colab-badge.svg\" alt=\"Open In Colab\"/></a>"
      ]
    },
    {
      "cell_type": "code",
      "execution_count": 28,
      "metadata": {
        "id": "iVBshSBgIwut"
      },
      "outputs": [],
      "source": [
        "import sympy as sp\n",
        "import math\n",
        "\n",
        "#Definimos los simbolos#\n",
        "S=sp.Symbol('S')\n",
        "t=sp.Symbol('t')\n",
        "c=sp.Symbol('c')"
      ]
    },
    {
      "cell_type": "code",
      "source": [
        "((t+4)**2).expand()"
      ],
      "metadata": {
        "colab": {
          "base_uri": "https://localhost:8080/",
          "height": 39
        },
        "id": "6ftr5IzcK_GO",
        "outputId": "81343160-1b65-4b45-a55f-1c61b6f33dc1"
      },
      "execution_count": 9,
      "outputs": [
        {
          "output_type": "execute_result",
          "data": {
            "text/plain": [
              "t**2 + 8*t + 16"
            ],
            "text/latex": "$\\displaystyle t^{2} + 8 t + 16$"
          },
          "metadata": {},
          "execution_count": 9
        }
      ]
    },
    {
      "cell_type": "code",
      "source": [
        "((t+4)**2).subs(t,1)"
      ],
      "metadata": {
        "colab": {
          "base_uri": "https://localhost:8080/",
          "height": 37
        },
        "id": "1E9wKg8ULxsH",
        "outputId": "02528ba5-a271-4a37-eeac-946303e7beb6"
      },
      "execution_count": 12,
      "outputs": [
        {
          "output_type": "execute_result",
          "data": {
            "text/plain": [
              "25"
            ],
            "text/latex": "$\\displaystyle 25$"
          },
          "metadata": {},
          "execution_count": 12
        }
      ]
    },
    {
      "cell_type": "code",
      "source": [
        "sp.factor((t**2+6*t+5))"
      ],
      "metadata": {
        "colab": {
          "base_uri": "https://localhost:8080/",
          "height": 39
        },
        "id": "UlllBoesMBFJ",
        "outputId": "fc6eb8dd-316e-463c-9d75-e0732f189c03"
      },
      "execution_count": 17,
      "outputs": [
        {
          "output_type": "execute_result",
          "data": {
            "text/plain": [
              "(t + 1)*(t + 5)"
            ],
            "text/latex": "$\\displaystyle \\left(t + 1\\right) \\left(t + 5\\right)$"
          },
          "metadata": {},
          "execution_count": 17
        }
      ]
    },
    {
      "cell_type": "code",
      "source": [
        "sp.simplify((t**2+2*t+5*t+t**2+3))"
      ],
      "metadata": {
        "colab": {
          "base_uri": "https://localhost:8080/",
          "height": 39
        },
        "id": "pMXYX34dMvCD",
        "outputId": "9e55617c-89c1-4dc3-949a-77507109594c"
      },
      "execution_count": 19,
      "outputs": [
        {
          "output_type": "execute_result",
          "data": {
            "text/plain": [
              "2*t**2 + 7*t + 3"
            ],
            "text/latex": "$\\displaystyle 2 t^{2} + 7 t + 3$"
          },
          "metadata": {},
          "execution_count": 19
        }
      ]
    },
    {
      "cell_type": "code",
      "source": [
        "sp.plotting.plot(t*t)"
      ],
      "metadata": {
        "colab": {
          "base_uri": "https://localhost:8080/",
          "height": 501
        },
        "id": "LUr5K0kXNOQv",
        "outputId": "942d52ae-19b0-4292-88db-8064e424aec5"
      },
      "execution_count": 25,
      "outputs": [
        {
          "output_type": "display_data",
          "data": {
            "text/plain": [
              "<Figure size 640x480 with 1 Axes>"
            ],
            "image/png": "[encoded data removed]"
          },
          "metadata": {}
        },
        {
          "output_type": "execute_result",
          "data": {
            "text/plain": [
              "<sympy.plotting.backends.matplotlibbackend.matplotlib.MatplotlibBackend at 0x7ed9968b8250>"
            ]
          },
          "metadata": {},
          "execution_count": 25
        }
      ]
    },
    {
      "cell_type": "code",
      "source": [
        "sp.plotting.plot(exp{c*t})"
      ],
      "metadata": {
        "colab": {
          "base_uri": "https://localhost:8080/",
          "height": 106
        },
        "id": "6I115C56Ny7U",
        "outputId": "3c67d7c0-d956-421c-d51d-5fee99331dba"
      },
      "execution_count": 36,
      "outputs": [
        {
          "output_type": "error",
          "ename": "SyntaxError",
          "evalue": "invalid syntax. Perhaps you forgot a comma? (<ipython-input-36-ffe6f027afba>, line 1)",
          "traceback": [
            "\u001b[0;36m  File \u001b[0;32m\"<ipython-input-36-ffe6f027afba>\"\u001b[0;36m, line \u001b[0;32m1\u001b[0m\n\u001b[0;31m    sp.plotting.plot(exp{c*t})\u001b[0m\n\u001b[0m                     ^\u001b[0m\n\u001b[0;31mSyntaxError\u001b[0m\u001b[0;31m:\u001b[0m invalid syntax. Perhaps you forgot a comma?\n"
          ]
        }
      ]
    },
    {
      "cell_type": "code",
      "source": [
        "S=sp.Function('S')\n",
        "ode=sp.Eq(sp.Derivative(S(t),t)-2*S(t),1)"
      ],
      "metadata": {
        "id": "SglsSUiBOh3N"
      },
      "execution_count": 55,
      "outputs": []
    },
    {
      "cell_type": "code",
      "source": [
        "ode"
      ],
      "metadata": {
        "colab": {
          "base_uri": "https://localhost:8080/",
          "height": 52
        },
        "id": "IVBStgKRPT77",
        "outputId": "740fbb83-05b8-4c86-867a-7d0d3b53925c"
      },
      "execution_count": 56,
      "outputs": [
        {
          "output_type": "execute_result",
          "data": {
            "text/plain": [
              "Eq(-2*S(t) + Derivative(S(t), t), 1)"
            ],
            "text/latex": "$\\displaystyle - 2 S{\\left(t \\right)} + \\frac{d}{d t} S{\\left(t \\right)} = 1$"
          },
          "metadata": {},
          "execution_count": 56
        }
      ]
    },
    {
      "cell_type": "code",
      "source": [
        "sol=sp.dsolve(ode,S(t),ics={S(0):1000})"
      ],
      "metadata": {
        "id": "qbXxgITPPcJ8"
      },
      "execution_count": 57,
      "outputs": []
    },
    {
      "cell_type": "code",
      "source": [
        "sol"
      ],
      "metadata": {
        "colab": {
          "base_uri": "https://localhost:8080/",
          "height": 54
        },
        "id": "NmArNETFP20u",
        "outputId": "f2896aba-07d1-4cda-8f5f-f71df28cb342"
      },
      "execution_count": 58,
      "outputs": [
        {
          "output_type": "execute_result",
          "data": {
            "text/plain": [
              "Eq(S(t), 2001*exp(2*t)/2 - 1/2)"
            ],
            "text/latex": "$\\displaystyle S{\\left(t \\right)} = \\frac{2001 e^{2 t}}{2} - \\frac{1}{2}$"
          },
          "metadata": {},
          "execution_count": 58
        }
      ]
    },
    {
      "cell_type": "code",
      "source": [
        "sp.plotting.plot(sol)"
      ],
      "metadata": {
        "colab": {
          "base_uri": "https://localhost:8080/",
          "height": 503
        },
        "id": "-L2iCg1qQcUM",
        "outputId": "ef9d77cf-1a3b-4763-c8d4-9faca3e78521"
      },
      "execution_count": 59,
      "outputs": [
        {
          "output_type": "display_data",
          "data": {
            "text/plain": [
              "<Figure size 640x480 with 1 Axes>"
            ],
            "image/png": "[encoded data removed]"
          },
          "metadata": {}
        },
        {
          "output_type": "execute_result",
          "data": {
            "text/plain": [
              "<sympy.plotting.backends.matplotlibbackend.matplotlib.MatplotlibBackend at 0x7ed9962a3280>"
            ]
          },
          "metadata": {},
          "execution_count": 59
        }
      ]
    }
  ]
}