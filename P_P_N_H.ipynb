{
  "nbformat": 4,
  "nbformat_minor": 0,
  "metadata": {
    "colab": {
      "provenance": [],
      "authorship_tag": "ABX9TyMEeQrOkbv/ipxfrTSlgWLO",
      "include_colab_link": true
    },
    "kernelspec": {
      "name": "python3",
      "display_name": "Python 3"
    },
    "language_info": {
      "name": "python"
    }
  },
  "cells": [
    {
      "cell_type": "markdown",
      "metadata": {
        "id": "view-in-github",
        "colab_type": "text"
      },
      "source": [
        "<a href=\"https://colab.research.google.com/github/Miranda-Merino-Irigoyen-Jorge-Missael/Simulaci-n-2/blob/main/P_P_N_H.ipynb\" target=\"_parent\"><img src=\"https://colab.research.google.com/assets/colab-badge.svg\" alt=\"Open In Colab\"/></a>"
      ]
    },
    {
      "cell_type": "code",
      "execution_count": null,
      "metadata": {
        "id": "olXOwJ1yGra6"
      },
      "outputs": [],
      "source": [
        "#Proceso de Poisson no homogeneo#\n",
        "\n",
        "import random\n",
        "import matplotlib.pyplot as plt\n",
        "import numpy as np\n",
        "\n",
        "# Inicialización de variables\n",
        "t = 0  # Tiempo inicial\n",
        "I = 0  # Número de eventos\n",
        "T = 60  # Tiempo máximo\n",
        "LAMBDA = 0.34  # Tasa de eventos\n",
        "\n",
        "# Listas para almacenar los tiempos y los eventos\n",
        "times = [0]  # Inicia en 0\n",
        "events = [0]  # Número de eventos comienza en 0\n",
        "\n",
        "#Función de lambda(t) #\n",
        "def lam(t):\n",
        "  if 0<=t<=3:\n",
        "    t=5 + 5*t\n",
        "  elif 3<=t<=5:\n",
        "    t=20\n",
        "  elif 5<t<=9:\n",
        "    t=20-(2*(t-5))\n",
        "  return t\n",
        "\n",
        "\n",
        "# Simulación del proceso de Poisson\n",
        "while t <= T:\n",
        "    u = random.uniform(0, 1)  # Generamos número aleatorio entre 0 y 1\n",
        "    t = t - (np.log(u) / LAMBDA)  # Calculamos el siguiente tiempo\n",
        "    if t <= T:  # Si no excede el tiempo límite\n",
        "        I += 1  # Aumentamos el número de eventos\n",
        "        times.append(t)  # Guardamos el tiempo\n",
        "        events.append(I)  # Guardamos el número de eventos\n",
        "    v = random.uniform(0, 1)  # Generamos número aleatorio entre 0 y 1\n",
        "    if v<=lam(t)/LAMBDA:\n",
        "      s=t\n",
        "      I += 1  # Aumentamos el número de eventos\n",
        "      times.append(t)  # Guardamos el tiempo\n",
        "      events.append(I)  # Guardamos el número de eventos\n",
        "\n",
        "\n",
        "# Imprimir el último tiempo y número de eventos\n",
        "print(f\"Último tiempo: {t:.2f}, Número total de eventos: {I}\")\n",
        "\n",
        "# Graficar la función escalonada\n",
        "plt.step(times, events, where='post')  # Gráfico escalonado\n",
        "plt.xlabel('Tiempo')\n",
        "plt.ylabel('Número de eventos')\n",
        "plt.title('Proceso de Poisson no homogéneo')\n",
        "plt.grid(True)\n",
        "plt.show()\n"
      ]
    }
  ]
}