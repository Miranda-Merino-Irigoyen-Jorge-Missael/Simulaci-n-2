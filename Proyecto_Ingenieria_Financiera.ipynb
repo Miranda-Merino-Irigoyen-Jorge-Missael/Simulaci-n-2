{
  "nbformat": 4,
  "nbformat_minor": 0,
  "metadata": {
    "colab": {
      "provenance": [],
      "collapsed_sections": [
        "YsUFvll0tS91"
      ],
      "authorship_tag": "ABX9TyOjEiqaZDpOgG0/2j4vvaHP",
      "include_colab_link": true
    },
    "kernelspec": {
      "name": "python3",
      "display_name": "Python 3"
    },
    "language_info": {
      "name": "python"
    }
  },
  "cells": [
    {
      "cell_type": "markdown",
      "metadata": {
        "id": "view-in-github",
        "colab_type": "text"
      },
      "source": [
        "<a href=\"https://colab.research.google.com/github/Miranda-Merino-Irigoyen-Jorge-Missael/Simulaci-n-2/blob/main/Proyecto_Ingenieria_Financiera.ipynb\" target=\"_parent\"><img src=\"https://colab.research.google.com/assets/colab-badge.svg\" alt=\"Open In Colab\"/></a>"
      ]
    },
    {
      "cell_type": "markdown",
      "source": [
        "# Preparación del entorno.\n"
      ],
      "metadata": {
        "id": "YsUFvll0tS91"
      }
    },
    {
      "cell_type": "code",
      "source": [
        "\n",
        "\n",
        "# Instalar webdriver-manager si no está instalado\n",
        "!pip install webdriver-manager selenium\n",
        "\n",
        "# Importar librerías necesarias\n",
        "from selenium import webdriver\n",
        "from selenium.webdriver.chrome.service import Service\n",
        "from selenium.webdriver.chrome.options import Options\n",
        "from webdriver_manager.chrome import ChromeDriverManager\n",
        "\n",
        "# Configurar opciones del navegador\n",
        "options = Options()\n",
        "options.add_argument(\"--headless\")  # Sin interfaz gráfica\n",
        "options.add_argument(\"--no-sandbox\")\n",
        "options.add_argument(\"--disable-dev-shm-usage\")\n",
        "\n",
        "# Descargar automáticamente la versión compatible de ChromeDriver\n",
        "service = Service(ChromeDriverManager().install())\n",
        "\n",
        "# Crear el navegador\n",
        "driver = webdriver.Chrome(service=service, options=options)\n",
        "\n",
        "# Probar conexión\n",
        "driver.get(\"https://www.google.com\")\n",
        "print(\"Título de la página:\", driver.title)\n",
        "\n",
        "# Cerrar navegador\n",
        "driver.quit()\n"
      ],
      "metadata": {
        "colab": {
          "base_uri": "https://localhost:8080/"
        },
        "id": "kym9wrK3rTnV",
        "outputId": "5b458f03-b0ea-4b82-e0c9-00007081b3e0"
      },
      "execution_count": null,
      "outputs": [
        {
          "output_type": "stream",
          "name": "stdout",
          "text": [
            "Requirement already satisfied: webdriver-manager in /usr/local/lib/python3.10/dist-packages (4.0.2)\n",
            "Requirement already satisfied: selenium in /usr/local/lib/python3.10/dist-packages (4.27.1)\n",
            "Requirement already satisfied: requests in /usr/local/lib/python3.10/dist-packages (from webdriver-manager) (2.32.3)\n",
            "Requirement already satisfied: python-dotenv in /usr/local/lib/python3.10/dist-packages (from webdriver-manager) (1.0.1)\n",
            "Requirement already satisfied: packaging in /usr/local/lib/python3.10/dist-packages (from webdriver-manager) (24.2)\n",
            "Requirement already satisfied: urllib3<3,>=1.26 in /usr/local/lib/python3.10/dist-packages (from urllib3[socks]<3,>=1.26->selenium) (2.3.0)\n",
            "Requirement already satisfied: trio~=0.17 in /usr/local/lib/python3.10/dist-packages (from selenium) (0.28.0)\n",
            "Requirement already satisfied: trio-websocket~=0.9 in /usr/local/lib/python3.10/dist-packages (from selenium) (0.11.1)\n",
            "Requirement already satisfied: certifi>=2021.10.8 in /usr/local/lib/python3.10/dist-packages (from selenium) (2024.12.14)\n",
            "Requirement already satisfied: typing_extensions~=4.9 in /usr/local/lib/python3.10/dist-packages (from selenium) (4.12.2)\n",
            "Requirement already satisfied: websocket-client~=1.8 in /usr/local/lib/python3.10/dist-packages (from selenium) (1.8.0)\n",
            "Requirement already satisfied: attrs>=23.2.0 in /usr/local/lib/python3.10/dist-packages (from trio~=0.17->selenium) (24.3.0)\n",
            "Requirement already satisfied: sortedcontainers in /usr/local/lib/python3.10/dist-packages (from trio~=0.17->selenium) (2.4.0)\n",
            "Requirement already satisfied: idna in /usr/local/lib/python3.10/dist-packages (from trio~=0.17->selenium) (3.10)\n",
            "Requirement already satisfied: outcome in /usr/local/lib/python3.10/dist-packages (from trio~=0.17->selenium) (1.3.0.post0)\n",
            "Requirement already satisfied: sniffio>=1.3.0 in /usr/local/lib/python3.10/dist-packages (from trio~=0.17->selenium) (1.3.1)\n",
            "Requirement already satisfied: exceptiongroup in /usr/local/lib/python3.10/dist-packages (from trio~=0.17->selenium) (1.2.2)\n",
            "Requirement already satisfied: wsproto>=0.14 in /usr/local/lib/python3.10/dist-packages (from trio-websocket~=0.9->selenium) (1.2.0)\n",
            "Requirement already satisfied: pysocks!=1.5.7,<2.0,>=1.5.6 in /usr/local/lib/python3.10/dist-packages (from urllib3[socks]<3,>=1.26->selenium) (1.7.1)\n",
            "Requirement already satisfied: charset-normalizer<4,>=2 in /usr/local/lib/python3.10/dist-packages (from requests->webdriver-manager) (3.4.1)\n",
            "Requirement already satisfied: h11<1,>=0.9.0 in /usr/local/lib/python3.10/dist-packages (from wsproto>=0.14->trio-websocket~=0.9->selenium) (0.14.0)\n",
            "Título de la página: Google\n"
          ]
        }
      ]
    },
    {
      "cell_type": "markdown",
      "source": [
        "# Comparador de precios"
      ],
      "metadata": {
        "id": "LQWQHbhptcNB"
      }
    },
    {
      "cell_type": "code",
      "source": [
        "from bs4 import BeautifulSoup\n",
        "import requests\n",
        "import pandas as pd\n",
        "from openpyxl import Workbook\n",
        "from openpyxl.styles import PatternFill, Border, Side, Alignment, Font\n",
        "from openpyxl.utils.dataframe import dataframe_to_rows\n",
        "\n",
        "# Configurar ScraperAPI\n",
        "api_key = \"d5fc8be171b2e7e86724a89d7e05f8da\"\n",
        "amazon_url = f\"https://www.amazon.com/s?k=laptop\"\n",
        "amazon_scraper_url = f\"http://api.scraperapi.com?api_key={api_key}&url={amazon_url}\"\n",
        "\n",
        "mercadolibre_url = \"https://listado.mercadolibre.com.mx/laptop\"\n",
        "\n",
        "# Función para extraer productos de Amazon\n",
        "def fetch_amazon_products():\n",
        "    response = requests.get(amazon_scraper_url)\n",
        "    products = []\n",
        "\n",
        "    if response.status_code == 200:\n",
        "        soup = BeautifulSoup(response.text, 'html.parser')\n",
        "        product_titles = soup.find_all('h2', class_='a-size-medium a-spacing-none a-color-base a-text-normal')\n",
        "        price_spans = soup.find_all('span', class_='a-price')\n",
        "\n",
        "        product_names = [title.text.strip() for title in product_titles]\n",
        "        product_prices = [price.find('span', class_='a-offscreen').text.strip() for price in price_spans if price.find('span', class_='a-offscreen')]\n",
        "\n",
        "        products = [{\"Name\": name, \"Price\": price, \"Source\": \"Amazon\"} for name, price in zip(product_names, product_prices)][:20]\n",
        "\n",
        "    return products\n",
        "\n",
        "# Función para extraer productos de MercadoLibre\n",
        "def fetch_mercadolibre_products():\n",
        "    response = requests.get(mercadolibre_url)\n",
        "    products = []\n",
        "\n",
        "    if response.status_code == 200:\n",
        "        soup = BeautifulSoup(response.text, 'html.parser')\n",
        "        product_items = soup.find_all('li', class_='ui-search-layout__item shops__layout-item', limit=20)\n",
        "\n",
        "        for item in product_items:\n",
        "            name_tag = item.find('a', class_='poly-component__title')\n",
        "            price_tag = item.find('span', class_='andes-money-amount__fraction')\n",
        "\n",
        "            name = name_tag.text.strip() if name_tag else \"Nombre no encontrado\"\n",
        "            price = f\"${price_tag.text.strip()}\" if price_tag else \"Precio no encontrado\"\n",
        "            products.append({\"Name\": name, \"Price\": price, \"Source\": \"MercadoLibre\"})\n",
        "\n",
        "    return products\n",
        "\n",
        "# Extraer productos\n",
        "amazon_products = fetch_amazon_products()\n",
        "mercadolibre_products = fetch_mercadolibre_products()\n",
        "\n",
        "# Combinar productos\n",
        "all_products = amazon_products + mercadolibre_products\n",
        "\n",
        "# Crear DataFrame\n",
        "df = pd.DataFrame(all_products)\n",
        "\n",
        "# Crear archivo Excel\n",
        "wb = Workbook()\n",
        "ws = wb.active\n",
        "ws.title = \"Productos\"\n",
        "\n",
        "# Agregar datos de DataFrame a Excel\n",
        "for r_idx, row in enumerate(dataframe_to_rows(df, index=False, header=True), start=1):\n",
        "    for c_idx, value in enumerate(row, start=1):\n",
        "        ws.cell(row=r_idx, column=c_idx, value=value)\n",
        "\n",
        "# Aplicar estilos\n",
        "header_fill = PatternFill(start_color=\"FFFF00\", end_color=\"FFFF00\", fill_type=\"solid\")\n",
        "amazon_fill = PatternFill(start_color=\"ADD8E6\", end_color=\"ADD8E6\", fill_type=\"solid\")\n",
        "mercadolibre_fill = PatternFill(start_color=\"98FB98\", end_color=\"98FB98\", fill_type=\"solid\")\n",
        "border = Border(left=Side(style=\"thick\"),\n",
        "                right=Side(style=\"thick\"),\n",
        "                top=Side(style=\"thick\"),\n",
        "                bottom=Side(style=\"thick\"))\n",
        "\n",
        "# Estilizar encabezados\n",
        "for cell in ws[1]:\n",
        "    cell.fill = header_fill\n",
        "    cell.font = Font(bold=True)\n",
        "    cell.alignment = Alignment(horizontal=\"center\", vertical=\"center\")\n",
        "\n",
        "# Estilizar filas\n",
        "for row in ws.iter_rows(min_row=2, max_row=ws.max_row, min_col=1, max_col=ws.max_column):\n",
        "    for cell in row:\n",
        "        source = ws.cell(row=cell.row, column=3).value\n",
        "        if source == \"Amazon\":\n",
        "            cell.fill = amazon_fill\n",
        "        elif source == \"MercadoLibre\":\n",
        "            cell.fill = mercadolibre_fill\n",
        "\n",
        "# Agregar bordes a toda la tabla\n",
        "for row in ws.iter_rows(min_row=1, max_row=ws.max_row, min_col=1, max_col=ws.max_column):\n",
        "    for cell in row:\n",
        "        cell.border = border\n",
        "\n",
        "# Guardar archivo\n",
        "wb.save(\"productos_estilizados.xlsx\")\n",
        "\n",
        "print(\"Archivo 'productos_estilizados.xlsx' creado con éxito.\")\n"
      ],
      "metadata": {
        "colab": {
          "base_uri": "https://localhost:8080/"
        },
        "id": "lxzhrUXCBZ3R",
        "outputId": "d7789fd1-c9a7-4732-fccc-acd1dfe937f0"
      },
      "execution_count": null,
      "outputs": [
        {
          "output_type": "stream",
          "name": "stdout",
          "text": [
            "Archivo 'productos_estilizados.xlsx' creado con éxito.\n"
          ]
        }
      ]
    }
  ]
}