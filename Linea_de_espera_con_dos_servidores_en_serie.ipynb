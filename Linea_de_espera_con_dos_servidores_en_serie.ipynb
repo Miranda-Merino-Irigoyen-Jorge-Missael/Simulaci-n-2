{
  "nbformat": 4,
  "nbformat_minor": 0,
  "metadata": {
    "colab": {
      "provenance": [],
      "authorship_tag": "ABX9TyNN6dLdnwKxIfzRYk2I+mmf",
      "include_colab_link": true
    },
    "kernelspec": {
      "name": "python3",
      "display_name": "Python 3"
    },
    "language_info": {
      "name": "python"
    }
  },
  "cells": [
    {
      "cell_type": "markdown",
      "metadata": {
        "id": "view-in-github",
        "colab_type": "text"
      },
      "source": [
        "<a href=\"https://colab.research.google.com/github/Miranda-Merino-Irigoyen-Jorge-Missael/Simulaci-n-2/blob/main/Linea_de_espera_con_dos_servidores_en_serie.ipynb\" target=\"_parent\"><img src=\"https://colab.research.google.com/assets/colab-badge.svg\" alt=\"Open In Colab\"/></a>"
      ]
    },
    {
      "cell_type": "code",
      "execution_count": 7,
      "metadata": {
        "colab": {
          "base_uri": "https://localhost:8080/"
        },
        "id": "X6uKZvCxYmKM",
        "outputId": "ced96978-a564-4a65-a5a1-d57e3a3b41c4"
      },
      "outputs": [
        {
          "output_type": "stream",
          "name": "stdout",
          "text": [
            "Tiempo medio de un cliente en el sistema: 199.00914911010057\n",
            "Tiempo medio de un cliente en S1: 176.75047411123649\n",
            "Tiempo medio de un cliente en S2: 22.258674998864034\n"
          ]
        }
      ],
      "source": [
        "#Linea de espera con dos servidores en serie #\n",
        "\n",
        "import math\n",
        "import random\n",
        "\n",
        "# Variables iniciales\n",
        "t = 0  # Tiempo actual\n",
        "n1 = 0  # Número de clientes en la cola y en el servidor S1\n",
        "n2 = 0  # Número de clientes en el servidor S2\n",
        "NLL = 0  # Número de llegadas hasta el instante t\n",
        "NS = 0  # Número de salidas hasta el instante t\n",
        "T = 100  # Definir la hora de cierre (ejemplo)\n",
        "max_time = 500  # Tiempo máximo de simulación para evitar bucles infinitos\n",
        "max_llegadas = 1000  # Número máximo de llegadas para evitar una simulación infinita\n",
        "t1 = math.inf  # Instante de la próxima salida en S1 (infinito si no hay clientes)\n",
        "t2 = math.inf  # Instante de la próxima salida en S2 (infinito si no hay clientes)\n",
        "\n",
        "# Funciones para generar los tiempos\n",
        "def generar_t0():\n",
        "    return random.expovariate(1/5)\n",
        "\n",
        "def generar_tt():\n",
        "    return random.expovariate(1/5)\n",
        "\n",
        "def generar_y1():\n",
        "    return random.expovariate(1/10)\n",
        "\n",
        "def generar_y2():\n",
        "    return random.expovariate(1/8)\n",
        "\n",
        "# Inicializar tLL con el primer tiempo de llegada T0\n",
        "tLL = generar_t0()\n",
        "\n",
        "# Listas para registrar los tiempos de llegada y salida de cada cliente\n",
        "LL1 = []  # Instantes de llegada de cada cliente a S1\n",
        "LL2 = []  # Instantes de llegada de cada cliente a S2\n",
        "S = []    # Instantes de salida de cada cliente del sistema\n",
        "\n",
        "# Bucle principal de simulación\n",
        "while t < max_time and NLL < max_llegadas:\n",
        "    # Caso 1: Se produce una llegada antes que cualquier salida (a S1)\n",
        "    if (tLL <= t1) and (tLL <= t2):\n",
        "        t = tLL\n",
        "        NLL += 1\n",
        "        n1 += 1\n",
        "        LL1.append(t)  # Anotar el instante de llegada del cliente a S1\n",
        "\n",
        "        # Generar el siguiente tiempo de llegada\n",
        "        tLL = t + generar_tt()\n",
        "\n",
        "        # Si es el único cliente en el sistema, generar el tiempo de salida de S1\n",
        "        if n1 == 1:\n",
        "            Y1 = generar_y1()\n",
        "            t1 = t + Y1\n",
        "\n",
        "    # Caso 2: Se produce una salida de S1 antes que la llegada y la salida de S2\n",
        "    elif (tLL > t1) and (t1 <= t2):\n",
        "        t = t1\n",
        "        n1 -= 1\n",
        "        n2 += 1\n",
        "        LL2.append(t)  # Anotar el instante de llegada del cliente a S2\n",
        "\n",
        "        # Si ya no hay más clientes en S1, hacer que t1 sea infinito\n",
        "        if n1 == 0:\n",
        "            t1 = math.inf\n",
        "        else:\n",
        "            Y1 = generar_y1()\n",
        "            t1 = t + Y1  # Generar el próximo tiempo de salida de S1 para el siguiente cliente\n",
        "\n",
        "        # Si es el primer cliente en S2, generar el tiempo de salida de S2\n",
        "        if n2 == 1:\n",
        "            Y2 = generar_y2()\n",
        "            t2 = t + Y2\n",
        "\n",
        "    # Caso 3: Se produce una salida de S2 antes que la llegada y la salida de S1\n",
        "    elif (t2 < t1) and (t2 < tLL):\n",
        "        t = t2\n",
        "        NS += 1\n",
        "        n2 -= 1\n",
        "        S.append(t)  # Anotar el instante de salida del cliente del sistema\n",
        "\n",
        "        # Si hay más clientes en S2, generar el próximo tiempo de salida de S2\n",
        "        if n2 > 0:\n",
        "            Y2 = generar_y2()\n",
        "            t2 = t + Y2\n",
        "        else:\n",
        "            t2 = math.inf  # No hay más clientes en S2, así que t2 se vuelve infinito\n",
        "\n",
        "    # Condición de salida del bucle: todas las colas están vacías y no hay más llegadas.\n",
        "    if (tLL > T) and (n1 == 0) and (n2 == 0):\n",
        "        break\n",
        "\n",
        "# Cálculo del tiempo medio en el sistema y en cada cola\n",
        "tiempos_en_sistema = [s - ll1 for s, ll1 in zip(S, LL1)]\n",
        "tiempos_en_s1 = [ll2 - ll1 for ll2, ll1 in zip(LL2, LL1)]\n",
        "tiempos_en_s2 = [s - ll2 for s, ll2 in zip(S, LL2)]\n",
        "\n",
        "# Promedios\n",
        "tiempo_medio_sistema = sum(tiempos_en_sistema) / len(tiempos_en_sistema) if tiempos_en_sistema else 0\n",
        "tiempo_medio_s1 = sum(tiempos_en_s1) / len(tiempos_en_s1) if tiempos_en_s1 else 0\n",
        "tiempo_medio_s2 = sum(tiempos_en_s2) / len(tiempos_en_s2) if tiempos_en_s2 else 0\n",
        "\n",
        "# Resultados #\n",
        "print(\"Tiempo medio de un cliente en el sistema:\", tiempo_medio_sistema)\n",
        "print(\"Tiempo medio de un cliente en S1:\", tiempo_medio_s1)\n",
        "print(\"Tiempo medio de un cliente en S2:\", tiempo_medio_s2)\n"
      ]
    }
  ]
}