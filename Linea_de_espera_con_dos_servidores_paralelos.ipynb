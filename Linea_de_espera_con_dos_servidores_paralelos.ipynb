{
  "nbformat": 4,
  "nbformat_minor": 0,
  "metadata": {
    "colab": {
      "provenance": [],
      "authorship_tag": "ABX9TyN86BfZtCdLJd6HD5+yTVvI",
      "include_colab_link": true
    },
    "kernelspec": {
      "name": "python3",
      "display_name": "Python 3"
    },
    "language_info": {
      "name": "python"
    }
  },
  "cells": [
    {
      "cell_type": "markdown",
      "metadata": {
        "id": "view-in-github",
        "colab_type": "text"
      },
      "source": [
        "<a href=\"https://colab.research.google.com/github/Miranda-Merino-Irigoyen-Jorge-Missael/Simulaci-n-2/blob/main/Linea_de_espera_con_dos_servidores_paralelos.ipynb\" target=\"_parent\"><img src=\"https://colab.research.google.com/assets/colab-badge.svg\" alt=\"Open In Colab\"/></a>"
      ]
    },
    {
      "cell_type": "code",
      "execution_count": 2,
      "metadata": {
        "colab": {
          "base_uri": "https://localhost:8080/"
        },
        "id": "0b4Bh1QIuPdu",
        "outputId": "f16d7ecd-5c00-46c9-8054-bcedbe413f7b"
      },
      "outputs": [
        {
          "output_type": "stream",
          "name": "stdout",
          "text": [
            "Tiempo medio que pasa un cliente en el sistema: 37.6518507657412\n",
            "Tiempo medio que pasa un cliente en la cola de S1: 125.9522213641574\n",
            "Tiempo medio que pasa un cliente en la cola de S2: -38.32753788870995\n",
            "Número medio de servicios realizados por S1: 37\n",
            "Número medio de servicios realizados por S2: 43\n"
          ]
        }
      ],
      "source": [
        "# Linea de espera con dos servidores paralelos #\n",
        "\n",
        "import math\n",
        "import random\n",
        "\n",
        "# Variables iniciales\n",
        "t = 0  # Tiempo actual\n",
        "C1 = 0  # Número de clientes servidos por S1 hasta t\n",
        "C2 = 0  # Número de clientes servidos por S2 hasta t\n",
        "NLL = 0  # Número de llegadas hasta el instante t\n",
        "SS = (0,)  # Estado del sistema, inicialmente vacío (n=0)\n",
        "T = 100  # Definir la hora de cierre (ejemplo)\n",
        "tLL = random.expovariate(1/5)  # Generar T0, tiempo de la primera llegada\n",
        "t1 = math.inf  # Instante de la próxima salida de S1\n",
        "t2 = math.inf  # Instante de la próxima salida de S2\n",
        "\n",
        "# Listas para registrar tiempos de llegada y salida\n",
        "LL = []  # Tiempos de llegada de cada cliente\n",
        "S1 = []  # Tiempos de salida de cada cliente servido por S1\n",
        "S2 = []  # Tiempos de salida de cada cliente servido por S2\n",
        "\n",
        "# Funciones para generar los tiempos\n",
        "def generar_tt():\n",
        "    return random.expovariate(1/5)  # Tiempo entre llegadas con media de 5\n",
        "\n",
        "def generar_y1():\n",
        "    return random.expovariate(1/10)  # Tiempo de servicio en S1 con media de 10\n",
        "\n",
        "def generar_y2():\n",
        "    return random.expovariate(1/10)  # Tiempo de servicio en S2 con media de 10\n",
        "\n",
        "# Bucle principal de simulación\n",
        "while True:\n",
        "    n = SS[0]  # Número de clientes en el sistema\n",
        "\n",
        "    # Caso 1: Llegada de un cliente\n",
        "    if tLL <= t1 and tLL <= t2:\n",
        "        t = tLL\n",
        "        NLL += 1\n",
        "        LL.append(t)\n",
        "        tLL = t + generar_tt()\n",
        "\n",
        "        if n == 0:\n",
        "            SS = (1, NLL, 0)\n",
        "            t1 = t + generar_y1()\n",
        "        elif n == 1 and SS[1] == 0:\n",
        "            SS = (2, NLL, SS[2])\n",
        "            t1 = t + generar_y1()\n",
        "        elif n == 1 and SS[2] == 0:\n",
        "            SS = (2, SS[1], NLL)\n",
        "            t2 = t + generar_y2()\n",
        "        else:\n",
        "            SS = (n+1,) + SS[1:] + (NLL,)\n",
        "\n",
        "    # Caso 2: Salida de un cliente atendido por S1\n",
        "    elif t1 < tLL and t1 <= t2:\n",
        "        t = t1\n",
        "        C1 += 1\n",
        "        S1.append(t)\n",
        "\n",
        "        if n == 1:\n",
        "            SS = (0,)\n",
        "            t1 = math.inf\n",
        "        elif n == 2:\n",
        "            SS = (1, 0, SS[2])\n",
        "            t1 = math.inf\n",
        "        else:\n",
        "            SS = (n-1,) + SS[2:]\n",
        "            t1 = t + generar_y1()\n",
        "\n",
        "    # Caso 3: Salida de un cliente atendido por S2\n",
        "    elif t2 < t1 and t2 < tLL:\n",
        "        t = t2\n",
        "        C2 += 1\n",
        "        S2.append(t)\n",
        "\n",
        "        if n == 1:\n",
        "            SS = (0,)\n",
        "            t2 = math.inf\n",
        "        elif n == 2:\n",
        "            SS = (1, SS[1], 0)\n",
        "            t2 = math.inf\n",
        "        else:\n",
        "            SS = (n-1,) + (SS[1],) + SS[3:]\n",
        "            t2 = t + generar_y2()\n",
        "\n",
        "    # Caso de fin: No hay más llegadas ni clientes en el sistema\n",
        "    if tLL > T and n == 0:\n",
        "        break\n",
        "\n",
        "# Cálculo de métricas\n",
        "tiempos_en_sistema = [s - l for s, l in zip(S1 + S2, LL)]\n",
        "tiempo_medio_en_sistema = sum(tiempos_en_sistema) / len(tiempos_en_sistema) if tiempos_en_sistema else 0\n",
        "\n",
        "tiempos_cola_s1 = [s - l for s, l in zip(S1, LL[:len(S1)])]\n",
        "tiempo_medio_cola_s1 = sum(tiempos_cola_s1) / len(tiempos_cola_s1) if tiempos_cola_s1 else 0\n",
        "\n",
        "tiempos_cola_s2 = [s - l for s, l in zip(S2, LL[len(S1):])]\n",
        "tiempo_medio_cola_s2 = sum(tiempos_cola_s2) / len(tiempos_cola_s2) if tiempos_cola_s2 else 0\n",
        "\n",
        "# Número de servicios medios por cada servidor\n",
        "servicios_medio_s1 = C1\n",
        "servicios_medio_s2 = C2\n",
        "\n",
        "# Salida de los resultados\n",
        "print(\"Tiempo medio que pasa un cliente en el sistema:\", tiempo_medio_en_sistema)\n",
        "print(\"Tiempo medio que pasa un cliente en la cola de S1:\", tiempo_medio_cola_s1)\n",
        "print(\"Tiempo medio que pasa un cliente en la cola de S2:\", tiempo_medio_cola_s2)\n",
        "print(\"Número medio de servicios realizados por S1:\", servicios_medio_s1)\n",
        "print(\"Número medio de servicios realizados por S2:\", servicios_medio_s2)\n"
      ]
    }
  ]
}