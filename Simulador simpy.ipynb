{
  "nbformat": 4,
  "nbformat_minor": 0,
  "metadata": {
    "colab": {
      "provenance": [],
      "authorship_tag": "ABX9TyPlmdPV5LeHuRIMsX8+68fc",
      "include_colab_link": true
    },
    "kernelspec": {
      "name": "python3",
      "display_name": "Python 3"
    },
    "language_info": {
      "name": "python"
    }
  },
  "cells": [
    {
      "cell_type": "markdown",
      "metadata": {
        "id": "view-in-github",
        "colab_type": "text"
      },
      "source": [
        "<a href=\"https://colab.research.google.com/github/Miranda-Merino-Irigoyen-Jorge-Missael/Simulaci-n-2/blob/main/Simulador%20simpy.ipynb\" target=\"_parent\"><img src=\"https://colab.research.google.com/assets/colab-badge.svg\" alt=\"Open In Colab\"/></a>"
      ]
    },
    {
      "cell_type": "markdown",
      "source": [
        "# Simulación sobre el desempeño del equipo ofensivo en el ambito aereo en un partido de futbol americano"
      ],
      "metadata": {
        "id": "PC0ofR2gNWOj"
      }
    },
    {
      "cell_type": "code",
      "source": [
        "import simpy\n",
        "import random\n",
        "\n",
        "# Función que simula un partido\n",
        "def partido(env, promedio_jugadas_totales, game_number):\n",
        "    # Calculamos el número de jugadas totales\n",
        "    jugadas_totales = round(random.gauss(promedio_jugadas_totales, 5))  # Promedio de 153 y desviación estándar de 5\n",
        "\n",
        "    # Número de jugadas de pase será el 25% de las jugadas totales\n",
        "    jugadas_pase = round(jugadas_totales * 0.25)\n",
        "    completos = 0  # Iniciamos en 0 los pases completos\n",
        "    total_sacks = 0  # Iniciamos en 0 los sacks\n",
        "\n",
        "    # Duración de cada jugada y descanso\n",
        "    duracion_jugada = 11  # Duración promedio de una jugada en segundos\n",
        "    tiempo_descanso = 10  # Tiempo de descanso entre jugadas en segundos\n",
        "\n",
        "    # Limitar la duración del partido a 60 minutos (en segundos)\n",
        "    max_segundos = 60 * 60  # 60 minutos en segundos\n",
        "    tiempo_total_jugadas = duracion_jugada * jugadas_pase  # Tiempo total de las jugadas en segundos\n",
        "    tiempo_total_descanso = tiempo_descanso * (jugadas_pase - 1)  # Tiempo total de descanso en segundos (no hay descanso después de la última jugada)\n",
        "\n",
        "    # Verificar si el tiempo total de las jugadas y descansos excede el tiempo máximo permitido\n",
        "    if tiempo_total_jugadas + tiempo_total_descanso > max_segundos:\n",
        "        print(f\"Advertencia: El partido excede los {max_segundos / 60} minutos. Ajustando el número de jugadas.\")\n",
        "        # Ajustar el número de jugadas para que encaje dentro del tiempo máximo\n",
        "        jugadas_pase = int((max_segundos - tiempo_total_descanso) / duracion_jugada)\n",
        "\n",
        "    # Simulamos las jugadas de pase\n",
        "    for jugada in range(1, jugadas_pase + 1):  # Empezamos desde la jugada 1\n",
        "        yield env.timeout(duracion_jugada)  # Esto hace que SimPy avance el tiempo por la duración de la jugada\n",
        "\n",
        "        if random.random() < 0.75:  # Supongamos que hay un 75% de probabilidad de que sea un pase completo\n",
        "            completos += 1\n",
        "            print(f\"Jugada {jugada} en el partido {game_number}: Pase completo.\")\n",
        "        else:\n",
        "            total_sacks += 1  # En caso de no ser un pase completo, contabilizamos un sack\n",
        "            print(f\"Jugada {jugada} en el partido {game_number}: Pase incompleto.\")\n",
        "\n",
        "        # Después de cada jugada, descansamos (excepto después de la última jugada)\n",
        "        if jugada < jugadas_pase:\n",
        "            yield env.timeout(tiempo_descanso)\n",
        "\n",
        "    # Fin del partido\n",
        "    print(f\"Fin del partido {game_number}\")\n",
        "    print(f\"Total de pases completos: {completos}, Total de sacks: {total_sacks}\")\n",
        "\n",
        "# Configuración del entorno de SimPy y ejecución de múltiples partidos para estadísticas\n",
        "env = simpy.Environment()  # Creamos el entorno de simulación\n",
        "num_partidos = 1  # Número de partidos a simular\n",
        "\n",
        "# Agregamos los procesos de cada partido al entorno\n",
        "for i in range(num_partidos):\n",
        "    env.process(partido(env, 153, i + 1)) # Pasamos el promedio de 153 a la función de cada partido\n",
        "\n",
        "# Ejecutamos la simulación\n",
        "env.run()  # Ejecutamos el entorno de simulación\n"
      ],
      "metadata": {
        "colab": {
          "base_uri": "https://localhost:8080/"
        },
        "id": "kXiEBl20Jver",
        "outputId": "fe0c82a0-bc0c-4348-ab3c-abd3ece52cec"
      },
      "execution_count": 20,
      "outputs": [
        {
          "output_type": "stream",
          "name": "stdout",
          "text": [
            "Jugada 1 en el partido 1: Pase completo.\n",
            "Jugada 2 en el partido 1: Pase completo.\n",
            "Jugada 3 en el partido 1: Pase completo.\n",
            "Jugada 4 en el partido 1: Pase incompleto.\n",
            "Jugada 5 en el partido 1: Pase incompleto.\n",
            "Jugada 6 en el partido 1: Pase completo.\n",
            "Jugada 7 en el partido 1: Pase incompleto.\n",
            "Jugada 8 en el partido 1: Pase completo.\n",
            "Jugada 9 en el partido 1: Pase completo.\n",
            "Jugada 10 en el partido 1: Pase completo.\n",
            "Jugada 11 en el partido 1: Pase completo.\n",
            "Jugada 12 en el partido 1: Pase completo.\n",
            "Jugada 13 en el partido 1: Pase incompleto.\n",
            "Jugada 14 en el partido 1: Pase completo.\n",
            "Jugada 15 en el partido 1: Pase incompleto.\n",
            "Jugada 16 en el partido 1: Pase completo.\n",
            "Jugada 17 en el partido 1: Pase incompleto.\n",
            "Jugada 18 en el partido 1: Pase completo.\n",
            "Jugada 19 en el partido 1: Pase completo.\n",
            "Jugada 20 en el partido 1: Pase completo.\n",
            "Jugada 21 en el partido 1: Pase completo.\n",
            "Jugada 22 en el partido 1: Pase completo.\n",
            "Jugada 23 en el partido 1: Pase incompleto.\n",
            "Jugada 24 en el partido 1: Pase incompleto.\n",
            "Jugada 25 en el partido 1: Pase completo.\n",
            "Jugada 26 en el partido 1: Pase completo.\n",
            "Jugada 27 en el partido 1: Pase completo.\n",
            "Jugada 28 en el partido 1: Pase completo.\n",
            "Jugada 29 en el partido 1: Pase incompleto.\n",
            "Jugada 30 en el partido 1: Pase incompleto.\n",
            "Jugada 31 en el partido 1: Pase completo.\n",
            "Jugada 32 en el partido 1: Pase completo.\n",
            "Jugada 33 en el partido 1: Pase completo.\n",
            "Jugada 34 en el partido 1: Pase incompleto.\n",
            "Jugada 35 en el partido 1: Pase incompleto.\n",
            "Jugada 36 en el partido 1: Pase completo.\n",
            "Jugada 37 en el partido 1: Pase completo.\n",
            "Jugada 38 en el partido 1: Pase incompleto.\n",
            "Jugada 39 en el partido 1: Pase completo.\n",
            "Fin del partido 1\n",
            "Total de pases completos: 26, Total de sacks: 13\n"
          ]
        }
      ]
    }
  ]
}